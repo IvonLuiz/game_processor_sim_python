{
 "cells": [
  {
   "cell_type": "code",
   "execution_count": null,
   "id": "0953fef4",
   "metadata": {},
   "outputs": [
    {
     "name": "stdout",
     "output_type": "stream",
     "text": [
      "pygame 2.6.1 (SDL 2.28.4, Python 3.12.9)\n",
      "Hello from the pygame community. https://www.pygame.org/contribute.html\n"
     ]
    }
   ],
   "source": [
    "import time\n",
    "import os\n",
    "import sys\n",
    "from core.processor import Processor\n",
    "from core.memory import Memory\n",
    "from core.sprite import SpriteManager, check_sprite_bounds\n",
    "from core.loader import load_from_file\n",
    "\n",
    "import pygame\n",
    "from core.display import Display"
   ]
  },
  {
   "cell_type": "code",
   "execution_count": 3,
   "id": "800a3a29",
   "metadata": {},
   "outputs": [],
   "source": [
    "PROGRAM_PATH = \"programs/\"  # Directory containing program files\n",
    "DISPLAY_WIDTH = 256  # Display width in pixels\n",
    "DISPLAY_HEIGHT = 256  # Display height in pixels\n",
    "PIXEL_SCALE = 2  # Pixel scaling factor\n",
    "FRAME_DELAY = 0.05  # Delay between frames in seconds\n",
    "MAX_STEPS = 1000  # Maximum simulation steps\n",
    "INSTRUCTIONS_PER_FRAME = 5  # Instructions to execute per frame"
   ]
  },
  {
   "cell_type": "code",
   "execution_count": null,
   "id": "c948f470",
   "metadata": {},
   "outputs": [],
   "source": [
    "program = ProgramLoader.load_from_file(os.path.join(PROGRAM_PATH, program_file))\n",
    "mem = Memory()\n",
    "mem.load_program(program)\n",
    "proc = Processor(mem)\n",
    "sprite_manager = SpriteManager()\n",
    "display = Display(width=DISPLAY_WIDTH, height=DISPLAY_HEIGHT, pixel_scale=PIXEL_SCALE)\n",
    "\n",
    "sprite_manager.set_sprite(0, 0)\n",
    "\n",
    "sprite = sprite_manager.sprites[0]\n",
    "for i in range(16):\n",
    "    for j in range(16):  # Square shape\n",
    "        if (2 <= i <= 13) and (2 <= j <= 13):\n",
    "            sprite.shape[i][j] = 1\n",
    "\n",
    "# Set initial register values\n",
    "proc.registers[0] = 0  # R0 = 0\n",
    "proc.registers[5] = 1  # R5 = 1 (vertical movement)\n",
    "proc.registers[6] = 1  # R6 = 1 (horizontal movement)\n",
    "\n",
    "# Main simulation loop\n",
    "running = True\n",
    "step = 0\n",
    "\n",
    "print(f\"Starting simulation with program: {program_file}\")\n",
    "print(f\"Press ESC or close the window to exit\")\n",
    "\n",
    "while running and step < MAX_STEPS:\n",
    "    # Execute a few instructions\n",
    "    for _ in range(INSTRUCTIONS_PER_FRAME):\n",
    "        if not proc.halted:\n",
    "            proc.step()\n",
    "\n",
    "    # Update sprite position based on memory\n",
    "    level = mem.load(1004)\n",
    "    row = mem.load(1005)\n",
    "    col = mem.load(1006)\n",
    "\n",
    "    # Apply bounds checking to both row and column\n",
    "    row = check_sprite_bounds(mem, row, 1002, 1005)\n",
    "    col = check_sprite_bounds(mem, col, 1003, 1006)\n",
    "\n",
    "    # Update sprite\n",
    "    sprite_manager.move_sprite(level, row, col)\n",
    "\n",
    "    # Render\n",
    "    display.render_sprites(sprite_manager)\n",
    "\n",
    "    # Check for quit events\n",
    "    if display.check_quit() or proc.halted:\n",
    "        running = False\n",
    "\n",
    "    # Slow down execution for visibility\n",
    "    time.sleep(FRAME_DELAY)\n",
    "    step += 1\n",
    "\n",
    "print(f\"Simulation ended after {step} steps\")\n",
    "# Clean up\n",
    "pygame.quit()"
   ]
  }
 ],
 "metadata": {
  "kernelspec": {
   "display_name": "base",
   "language": "python",
   "name": "python3"
  },
  "language_info": {
   "codemirror_mode": {
    "name": "ipython",
    "version": 3
   },
   "file_extension": ".py",
   "mimetype": "text/x-python",
   "name": "python",
   "nbconvert_exporter": "python",
   "pygments_lexer": "ipython3",
   "version": "3.12.9"
  }
 },
 "nbformat": 4,
 "nbformat_minor": 5
}
