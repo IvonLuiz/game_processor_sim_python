{
 "cells": [
  {
   "cell_type": "code",
   "execution_count": null,
   "id": "0953fef4",
   "metadata": {},
   "outputs": [
    {
     "name": "stdout",
     "output_type": "stream",
     "text": [
      "pygame 2.6.1 (SDL 2.28.4, Python 3.12.9)\n",
      "Hello from the pygame community. https://www.pygame.org/contribute.html\n"
     ]
    }
   ],
   "source": [
    "import time\n",
    "import os\n",
    "import sys\n",
    "from core.processor import Processor\n",
    "from core.memory import Memory\n",
    "from core.sprite import SpriteManager, check_sprite_bounds\n",
    "from core.loader import load_from_file\n",
    "\n",
    "import pygame\n",
    "from core.display import Display"
   ]
  },
  {
   "cell_type": "code",
   "execution_count": 3,
   "id": "800a3a29",
   "metadata": {},
   "outputs": [],
   "source": [
    "PROGRAM_PATH = \"programs/\"  # Directory containing program files\n",
    "DISPLAY_WIDTH = 256  # Display width in pixels\n",
    "DISPLAY_HEIGHT = 256  # Display height in pixels\n",
    "PIXEL_SCALE = 2  # Pixel scaling factor\n",
    "FRAME_DELAY = 0.05  # Delay between frames in seconds\n",
    "MAX_STEPS = 1000  # Maximum simulation steps\n",
    "INSTRUCTIONS_PER_FRAME = 5  # Instructions to execute per frame"
   ]
  },
  {
   "cell_type": "code",
   "execution_count": null,
   "id": "12668a5b",
   "metadata": {},
   "outputs": [],
   "source": [
    "program_file = \"arithmetic_test.txt\""
   ]
  },
  {
   "cell_type": "code",
   "execution_count": null,
   "id": "9a0048d0",
   "metadata": {},
   "outputs": [],
   "source": [
    "program = load_from_file(os.path.join(PROGRAM_PATH, program_file))\n",
    "mem = Memory()\n",
    "mem.load_program(program)\n",
    "proc = Processor(mem)"
   ]
  },
  {
   "cell_type": "code",
   "execution_count": null,
   "id": "c948f470",
   "metadata": {},
   "outputs": [],
   "source": [
    "step = 0\n",
    "halted = False\n",
    "\n",
    "print(\"\\nExecution trace:\")\n",
    "print(\"-\" * 50)\n",
    "\n",
    "try:\n",
    "    while not halted and step < MAX_STEPS:\n",
    "        # Execute a single instruction\n",
    "        proc.step()\n",
    "\n",
    "        # Print register state after each instruction\n",
    "        print_register_state(proc)\n",
    "\n",
    "        # Check if processor halted\n",
    "        halted = proc.halted\n",
    "        step += 1\n",
    "\n",
    "        # Allow user to step through execution\n",
    "        if step % 10 == 0:  # Ask every 10 steps\n",
    "            user_input = input(\"Continue? [Enter/s/q]: \")\n",
    "            if user_input.lower() == \"q\":\n",
    "                break\n",
    "            elif user_input.lower() == \"s\":\n",
    "                print(\"\\nFinal Register State:\")\n",
    "                print_register_state(proc)\n",
    "                break\n",
    "\n",
    "except KeyboardInterrupt:\n",
    "    print(\"\\nExecution interrupted by user\")\n",
    "\n",
    "print(f\"\\nExecution completed after {step} steps\")\n",
    "print(\"Final Register State:\")\n",
    "print_register_state(proc)\n",
    "\n",
    "# Display memory dump\n",
    "print(\"\\nMemory Dump (non-zero values):\")\n",
    "for addr in range(0, 2000, 10):  # Dump first 2000 memory locations\n",
    "    row = [mem.load(addr + i) for i in range(10)]\n",
    "    if any(row):  # Only print rows with non-zero values\n",
    "        print(f\"{addr:04d}: {' '.join(f'{val:3d}' for val in row)}\")"
   ]
  }
 ],
 "metadata": {
  "kernelspec": {
   "display_name": "base",
   "language": "python",
   "name": "python3"
  },
  "language_info": {
   "codemirror_mode": {
    "name": "ipython",
    "version": 3
   },
   "file_extension": ".py",
   "mimetype": "text/x-python",
   "name": "python",
   "nbconvert_exporter": "python",
   "pygments_lexer": "ipython3",
   "version": "3.12.9"
  }
 },
 "nbformat": 4,
 "nbformat_minor": 5
}
